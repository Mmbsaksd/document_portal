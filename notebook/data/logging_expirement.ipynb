{
 "cells": [
  {
   "cell_type": "code",
   "execution_count": null,
   "id": "280e25cd",
   "metadata": {},
   "outputs": [],
   "source": [
    "import logging\n",
    "import os\n",
    "from datetime import datetime"
   ]
  },
  {
   "cell_type": "code",
   "execution_count": null,
   "id": "95291302",
   "metadata": {},
   "outputs": [],
   "source": [
    "##Created logs dir\n",
    "logs_dir = os.path.join(os.getcwd(),\"logs\")\n",
    "os.makedirs(logs_dir, exist_ok=True)"
   ]
  },
  {
   "cell_type": "code",
   "execution_count": 9,
   "id": "ea22f64e",
   "metadata": {},
   "outputs": [],
   "source": [
    "LOG_FILE = f\"{datetime.now().strftime('%m_%d_%y_%Y_%H_%M_%S')}.log\""
   ]
  },
  {
   "cell_type": "code",
   "execution_count": 14,
   "id": "ec1ad55b",
   "metadata": {},
   "outputs": [],
   "source": [
    "LOG_FILE_PATH = os.path.join(logs_dir, LOG_FILE)"
   ]
  },
  {
   "cell_type": "code",
   "execution_count": 15,
   "id": "c90fa072",
   "metadata": {},
   "outputs": [],
   "source": [
    "logging.basicConfig(\n",
    "    filename = LOG_FILE_PATH,\n",
    "    format = \"[ %(asctime)s ] %(levelname)s %(name)s (line:%(lineno)d) - %(message)s\",\n",
    "    level = logging.INFO\n",
    ")"
   ]
  },
  {
   "cell_type": "code",
   "execution_count": 16,
   "id": "f14dcd92",
   "metadata": {},
   "outputs": [],
   "source": [
    "logger = logging.getLogger(\"DocumentPortal\")"
   ]
  },
  {
   "cell_type": "code",
   "execution_count": 17,
   "id": "11abe53e",
   "metadata": {},
   "outputs": [],
   "source": [
    "logger.info(\"This is an info message\")"
   ]
  },
  {
   "cell_type": "code",
   "execution_count": null,
   "id": "0dec51b3",
   "metadata": {},
   "outputs": [],
   "source": []
  }
 ],
 "metadata": {
  "kernelspec": {
   "display_name": "Python 3",
   "language": "python",
   "name": "python3"
  },
  "language_info": {
   "codemirror_mode": {
    "name": "ipython",
    "version": 3
   },
   "file_extension": ".py",
   "mimetype": "text/x-python",
   "name": "python",
   "nbconvert_exporter": "python",
   "pygments_lexer": "ipython3",
   "version": "3.10.18"
  }
 },
 "nbformat": 4,
 "nbformat_minor": 5
}
